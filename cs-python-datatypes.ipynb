{
 "cells": [
  {
   "cell_type": "markdown",
   "metadata": {},
   "source": [
    "# Introduction\n",
    "\n",
    "We use variables in our programs to store data.  Each variable has a name and stores data of a certain type (string, integer, real etc).  In Python we do not have to explicitly state the data type being stored, it will work this out for itself when the variable is first used.  In this section we will just use string variables.  String is the programming term for text (i.e. letters, numbers and symbols).\n",
    "Variable names can contain letters and numbers but should always start with a letter.\n",
    "We assign a value to a variable using =\n",
    "\n",
    "Task 1"
   ]
  },
  {
   "cell_type": "code",
   "execution_count": 1,
   "metadata": {},
   "outputs": [
    {
     "name": "stdout",
     "output_type": "stream",
     "text": [
      "Hello Bob\n"
     ]
    }
   ],
   "source": [
    "# run the following lines of code:\n",
    "name='Bob'\n",
    "print('Hello '+name)"
   ]
  },
  {
   "cell_type": "markdown",
   "metadata": {},
   "source": [
    "## Calculations\n",
    "\n",
    "We can carry out calculations in Python.  The arithmetic operators we use to do this are:\n",
    " (+)  addition\n",
    " (-)  subtraction\n",
    " (*)  multiplication\n",
    " (/) division\n",
    " \n",
    "Task 2"
   ]
  },
  {
   "cell_type": "code",
   "execution_count": 2,
   "metadata": {},
   "outputs": [
    {
     "name": "stdout",
     "output_type": "stream",
     "text": [
      "8\n",
      "-1\n",
      "24\n",
      "6.5\n"
     ]
    }
   ],
   "source": [
    "# Copy and run the following lines of code\n",
    "print(1+7)\n",
    "print(4-5)\n",
    "print(3*8)\n",
    "print(13/2)"
   ]
  },
  {
   "cell_type": "markdown",
   "metadata": {},
   "source": [
    "Task 3\n",
    "Try changing the calculations to new ones.\n",
    " \n",
    "We can put the results of calculations into variables.  These variables will not be string but integer (whole numbers) or float (decimal)."
   ]
  },
  {
   "cell_type": "code",
   "execution_count": 3,
   "metadata": {},
   "outputs": [
    {
     "name": "stdout",
     "output_type": "stream",
     "text": [
      "30\n"
     ]
    }
   ],
   "source": [
    "a=10\n",
    "b=3\n",
    "c=a*b\n",
    "print(c)"
   ]
  },
  {
   "cell_type": "markdown",
   "metadata": {},
   "source": [
    "## Datatypes\n",
    "Every variable has a given data type.  The most common data types are:\n",
    " \n",
    "String  - Text made up of numbers, letters and characters.\n",
    "\n",
    "Integer - Whole numbers. (e.g. 1, 78, 0 and -54)\n",
    "\n",
    "Float - Decimal numbers (e.g. 3.5683, 98.74634, -6.3).  Float comes under the umbrella of what we often refer to as Real numbers.\n",
    "\n",
    "Boolean - True or False\n",
    " \n",
    "In some languages we have to tell the computer what data type a variable is going to be.  Python, on the other hand, is able to decide the data type of the variable according to what value it is first given (or to use the correct term what it is initialised with). This can cause problems when we try to do something with the wrong data type.\n",
    " \n",
    "Copy and run the following program. "
   ]
  },
  {
   "cell_type": "code",
   "execution_count": 4,
   "metadata": {},
   "outputs": [
    {
     "name": "stdout",
     "output_type": "stream",
     "text": [
      "Enter number 1:3\n",
      "Enter number 2:2\n",
      "Adding your numbers together gives:32\n"
     ]
    }
   ],
   "source": [
    "a=input('Enter number 1:')\n",
    "b=input('Enter number 2:')\n",
    "c=a+b\n",
    "print('Adding your numbers together gives:'+c)"
   ]
  },
  {
   "cell_type": "markdown",
   "metadata": {},
   "source": [
    "If you enter the numbers 5 and 4 it will output 54.  This is because Python treats anything received through the input function as a string.  We need to tell Python we want to convert this string to an integer before putting it into the variable.  This is done using type casting.\n",
    " \n",
    "To cast data to an integer we use int()\n",
    " \n",
    "Try the program now:"
   ]
  },
  {
   "cell_type": "code",
   "execution_count": 5,
   "metadata": {
    "scrolled": false
   },
   "outputs": [
    {
     "name": "stdout",
     "output_type": "stream",
     "text": [
      "Enter number 1:5\n",
      "Enter number 2:2\n"
     ]
    },
    {
     "ename": "TypeError",
     "evalue": "must be str, not int",
     "output_type": "error",
     "traceback": [
      "\u001b[0;31m---------------------------------------------------------------------------\u001b[0m",
      "\u001b[0;31mTypeError\u001b[0m                                 Traceback (most recent call last)",
      "\u001b[0;32m<ipython-input-5-edb02a25fc7c>\u001b[0m in \u001b[0;36m<module>\u001b[0;34m\u001b[0m\n\u001b[1;32m      2\u001b[0m \u001b[0mb\u001b[0m \u001b[0;34m=\u001b[0m \u001b[0mint\u001b[0m\u001b[0;34m(\u001b[0m\u001b[0minput\u001b[0m\u001b[0;34m(\u001b[0m\u001b[0;34m'Enter number 2:'\u001b[0m\u001b[0;34m)\u001b[0m\u001b[0;34m)\u001b[0m\u001b[0;34m\u001b[0m\u001b[0;34m\u001b[0m\u001b[0m\n\u001b[1;32m      3\u001b[0m \u001b[0mc\u001b[0m\u001b[0;34m=\u001b[0m\u001b[0ma\u001b[0m\u001b[0;34m+\u001b[0m\u001b[0mb\u001b[0m\u001b[0;34m\u001b[0m\u001b[0;34m\u001b[0m\u001b[0m\n\u001b[0;32m----> 4\u001b[0;31m \u001b[0mprint\u001b[0m\u001b[0;34m(\u001b[0m\u001b[0;34m'Adding your numbers together gives:'\u001b[0m\u001b[0;34m+\u001b[0m\u001b[0mc\u001b[0m\u001b[0;34m)\u001b[0m\u001b[0;34m\u001b[0m\u001b[0;34m\u001b[0m\u001b[0m\n\u001b[0m",
      "\u001b[0;31mTypeError\u001b[0m: must be str, not int"
     ]
    }
   ],
   "source": [
    "a = int(input('Enter number 1:'))\n",
    "b = int(input('Enter number 2:'))\n",
    "c=a+b\n",
    "print('Adding your numbers together gives:'+c)"
   ]
  },
  {
   "cell_type": "markdown",
   "metadata": {},
   "source": [
    "This time you will get an error in line 4:\n",
    "TypeError: Can't convert 'int' object to str implicitly\n",
    " \n",
    "Explain why and write down the reason. \n",
    "\n",
    "This happens because in the code Python is trying get the  of sum 2 numbers together if it sees an interger next to a +\n",
    "instead of joining 2 strings or converting the interger to a string"
   ]
  },
  {
   "cell_type": "markdown",
   "metadata": {},
   "source": [
    "## Mathematical operators\n",
    " \n",
    "Task 4 Try using the following operators and note down the results"
   ]
  },
  {
   "cell_type": "markdown",
   "metadata": {},
   "source": [
    "60/5\n",
    "\n",
    "987+34\n",
    "\n",
    "564*89\n",
    "\n",
    "2**5\n",
    "\n",
    "43-5\n",
    "\n",
    "11//2\n",
    "\n",
    "11%2"
   ]
  },
  {
   "cell_type": "code",
   "execution_count": null,
   "metadata": {},
   "outputs": [],
   "source": [
    "# write the code here\n",
    "60/5 #divides the 1st number by the 2nd and leaves the answer in float/real form\n",
    "987+34 #gets the sum of the 2 numbers\n",
    "564*34 #mutiplies the 2 numbers together\n",
    "2**5 #This does the 1st number to the power of the 2nd number\n",
    "43-5 #1st number minus the 2nd\n",
    "11//2 #divides but only shows the highest interger possible\n",
    "11%2 #divides and shows the remainder"
   ]
  },
  {
   "cell_type": "markdown",
   "metadata": {},
   "source": [
    "### Task 5\n",
    "Calculate cost of carpet where the user provides the length and width of the carpet. The price of the carpet is £10 per square meter."
   ]
  },
  {
   "cell_type": "code",
   "execution_count": 10,
   "metadata": {},
   "outputs": [
    {
     "name": "stdout",
     "output_type": "stream",
     "text": [
      "Enter the length of carpet in metres: 213\n",
      "Enter the width of carpet in metres: 123\n",
      "Length of carpet supplied =  213.0\n",
      "width of carpet supplied =  123.0\n",
      "The cost of the carpet is £261990.0\n"
     ]
    }
   ],
   "source": [
    "length = float(input(\"Enter the length of carpet in metres: \"))\n",
    "# ask the user to provide width\n",
    "# add your code here\n",
    "width = float(input(\"Enter the width of carpet in metres: \"))\n",
    "\n",
    "# print the length of the carpet\n",
    "print(\"Length of carpet supplied = \",length)\n",
    "\n",
    "# print the width and Cost of the carpet\n",
    "# add your code here\n",
    "print(\"width of carpet supplied = \",width)\n",
    "cost = str(length*width*10)\n",
    "print(\"The cost of the carpet is £\"+cost)"
   ]
  },
  {
   "cell_type": "markdown",
   "metadata": {},
   "source": [
    "### Task 6\n",
    "Calculate volume of a cylinder when radius and height is given and print the volume"
   ]
  },
  {
   "cell_type": "code",
   "execution_count": 9,
   "metadata": {},
   "outputs": [
    {
     "name": "stdout",
     "output_type": "stream",
     "text": [
      "Enter the radius of the cylinder in centimetres: 30\n",
      "Enter the height of the cylinder in centimetres: 20\n",
      "The volume of the cylinder is 56555.99999999999cm^2\n"
     ]
    }
   ],
   "source": [
    "# volume = pi*radius*radius*height\n",
    "pi = 3.142\n",
    "# add your code here\n",
    "radius = float(input(\"Enter the radius of the cylinder in centimetres: \"))\n",
    "height = float(input(\"Enter the height of the cylinder in centimetres: \"))\n",
    "volume = str(pi*radius**2*height)\n",
    "print(\"The volume of the cylinder is\",volume+\"cm^2\")"
   ]
  },
  {
   "cell_type": "markdown",
   "metadata": {},
   "source": [
    "## Task 7\n",
    "Write a Python program which accepts the radius of a circle from the user and compute the area. "
   ]
  },
  {
   "cell_type": "code",
   "execution_count": 12,
   "metadata": {},
   "outputs": [
    {
     "name": "stdout",
     "output_type": "stream",
     "text": [
      "Enter the radius of the circle in centimetres: 1\n",
      "The area of the circle is 3.141592653589793cm\n"
     ]
    }
   ],
   "source": [
    "from math import pi\n",
    "\n",
    "# you can use the value pi imported from the math library\n",
    "# add your code here\n",
    "radius = float(input(\"Enter the radius of the circle in centimetres: \"))\n",
    "area = str(pi*radius**2)\n",
    "print(\"The area of the circle is\",area+\"cm\")"
   ]
  },
  {
   "cell_type": "markdown",
   "metadata": {},
   "source": [
    "### Task 8\n",
    "Write a Python program to compute the future value of a specified principal amount, rate of interest, and a number of years."
   ]
  },
  {
   "cell_type": "code",
   "execution_count": 13,
   "metadata": {},
   "outputs": [
    {
     "name": "stdout",
     "output_type": "stream",
     "text": [
      "The future value is 12722.792627665729\n"
     ]
    }
   ],
   "source": [
    "amt = 10000\n",
    "int = 3.5\n",
    "years = 7\n",
    "# add your code here\n",
    "intper = int/100 +1\n",
    "fvalue = amt*intper**years\n",
    "print(\"The future value is\",fvalue)"
   ]
  },
  {
   "cell_type": "markdown",
   "metadata": {},
   "source": [
    "### Task 9 \n",
    "Write a program to ask the user to enter three numbers and find the largest number from a set of three numbers."
   ]
  },
  {
   "cell_type": "code",
   "execution_count": 7,
   "metadata": {},
   "outputs": [
    {
     "name": "stdout",
     "output_type": "stream",
     "text": [
      "Enter your first number: 100\n",
      "Enter your second number: 2\n",
      "Enter your third number: -1.5\n",
      "The largest number is: 100.0\n"
     ]
    }
   ],
   "source": [
    "# add your code here\n",
    "num1 = float(input(\"Enter your first number: \"))\n",
    "num2 = float(input(\"Enter your second number: \"))\n",
    "num3 = float(input(\"Enter your third number: \"))\n",
    "if num1 > num2 and num1 > num3:\n",
    "    large = num1\n",
    "elif num2 > num1 and num2 > num3:\n",
    "    large = num2\n",
    "else:\n",
    "    large = num3\n",
    "print(\"The largest number is:\", large)"
   ]
  },
  {
   "cell_type": "markdown",
   "metadata": {},
   "source": [
    "#### Extension Task\n",
    "Write a program to generate and print all 3-digit numbers that equal the sum of the cubes of their individual decimal digits."
   ]
  },
  {
   "cell_type": "code",
   "execution_count": 8,
   "metadata": {},
   "outputs": [
    {
     "name": "stdout",
     "output_type": "stream",
     "text": [
      "These are all the 3-digit numbers that equal the sum of the cubes of their digits: 153 370 371 407 \n"
     ]
    }
   ],
   "source": [
    "#added this as well\n",
    "Vaild_Num = \"\"\n",
    "# the code is repeated to \n",
    "for i in range (100,1000):\n",
    "    # explain what the following lines of code are trying to do\n",
    "    hundreds = i // 100 # This is finding the hundreds dight\n",
    "    units = i % 10 # This is finding the units dight\n",
    "    j = i // 10 # This removes the units to make it easier to find the Tens dight\n",
    "    tens = j % 10 # This removes the Hundreds dight so we have the tens by itself\n",
    "# add your code here\n",
    "    if hundreds**3 + tens**3 + units**3 == i:\n",
    "        Vaild_Num += str(i) + \" \"\n",
    "print(\"These are all the 3-digit numbers that equal the sum of the cubes of their digits: \"+ Vaild_Num)"
   ]
  }
 ],
 "metadata": {
  "kernelspec": {
   "display_name": "Python 3",
   "language": "python",
   "name": "python3"
  },
  "language_info": {
   "codemirror_mode": {
    "name": "ipython",
    "version": 3
   },
   "file_extension": ".py",
   "mimetype": "text/x-python",
   "name": "python",
   "nbconvert_exporter": "python",
   "pygments_lexer": "ipython3",
   "version": "3.6.8"
  }
 },
 "nbformat": 4,
 "nbformat_minor": 2
}
